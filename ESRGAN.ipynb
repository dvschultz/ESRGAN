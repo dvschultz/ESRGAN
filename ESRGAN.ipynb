{
  "nbformat": 4,
  "nbformat_minor": 0,
  "metadata": {
    "colab": {
      "name": "ESRGAN.ipynb",
      "provenance": [],
      "authorship_tag": "ABX9TyMkh/dKxTE0+u2Q8eXooi1o",
      "include_colab_link": true
    },
    "kernelspec": {
      "name": "python3",
      "display_name": "Python 3"
    },
    "accelerator": "GPU"
  },
  "cells": [
    {
      "cell_type": "markdown",
      "metadata": {
        "id": "view-in-github",
        "colab_type": "text"
      },
      "source": [
        "<a href=\"https://colab.research.google.com/github/dvschultz/ESRGAN/blob/master/ESRGAN.ipynb\" target=\"_parent\"><img src=\"https://colab.research.google.com/assets/colab-badge.svg\" alt=\"Open In Colab\"/></a>"
      ]
    },
    {
      "cell_type": "markdown",
      "metadata": {
        "id": "PCt669Sdk3_J",
        "colab_type": "text"
      },
      "source": [
        "#ESRGAN"
      ]
    },
    {
      "cell_type": "code",
      "metadata": {
        "id": "c9dx-79gk2bZ",
        "colab_type": "code",
        "colab": {
          "base_uri": "https://localhost:8080/",
          "height": 119
        },
        "outputId": "6b8451a0-3290-4c68-a627-f8aa886c1907"
      },
      "source": [
        "!git clone https://github.com/xinntao/ESRGAN\n",
        "%cd ESRGAN\n",
        "%cd models\n",
        "!gdown --id 1pJ_T-V1dpb1ewoEra1TGSWl5e6H7M4NN\n",
        "!gdown --id 1TPrz5QKd8DHHt1k8SRtm6tMiPjz_Qene\n",
        "!gdown --id 1mSJ6Z40weL-dnPvi390xDd3uZBCFMeqr\n",
        "!gdown --id 1MJFgqXJrMkPdKtiuy7C6xfsU1QIbXEb-\n",
        "%cd ../"
      ],
      "execution_count": 2,
      "outputs": [
        {
          "output_type": "stream",
          "text": [
            "Cloning into 'ESRGAN'...\n",
            "remote: Enumerating objects: 210, done.\u001b[K\n",
            "remote: Total 210 (delta 0), reused 0 (delta 0), pack-reused 210\u001b[K\n",
            "Receiving objects: 100% (210/210), 24.85 MiB | 40.46 MiB/s, done.\n",
            "Resolving deltas: 100% (76/76), done.\n",
            "/content/ESRGAN\n"
          ],
          "name": "stdout"
        }
      ]
    },
    {
      "cell_type": "code",
      "metadata": {
        "id": "JSnuv5aDmAa0",
        "colab_type": "code",
        "colab": {
          "base_uri": "https://localhost:8080/",
          "height": 799
        },
        "outputId": "12c265e1-c4ba-431f-8b34-0acd8dddfe3e"
      },
      "source": [
        "!python test.py"
      ],
      "execution_count": 6,
      "outputs": [
        {
          "output_type": "stream",
          "text": [
            "Model path models/RRDB_ESRGAN_x4.pth. \n",
            "Testing...\n",
            "1 04206\n",
            "2 04211\n",
            "3 04212\n",
            "4 04245\n",
            "5 04237\n",
            "6 04239\n",
            "7 04209\n",
            "8 04228\n",
            "9 04205\n",
            "10 04221\n",
            "11 04229\n",
            "12 04207\n",
            "13 04231\n",
            "14 04220\n",
            "15 04243\n",
            "16 04246\n",
            "17 04238\n",
            "18 04240\n",
            "19 04242\n",
            "20 04226\n",
            "21 04234\n",
            "22 04248\n",
            "23 04247\n",
            "24 04241\n",
            "25 04232\n",
            "26 04210\n",
            "27 04215\n",
            "28 04219\n",
            "29 04225\n",
            "30 04227\n",
            "31 04222\n",
            "32 04216\n",
            "33 04233\n",
            "34 04224\n",
            "35 04236\n",
            "36 04230\n",
            "37 04223\n",
            "38 04244\n",
            "39 04213\n",
            "40 04217\n",
            "41 04214\n",
            "42 04235\n",
            "43 04218\n",
            "44 04208\n"
          ],
          "name": "stdout"
        }
      ]
    },
    {
      "cell_type": "code",
      "metadata": {
        "id": "4viH7iQwmUWL",
        "colab_type": "code",
        "colab": {
          "base_uri": "https://localhost:8080/",
          "height": 799
        },
        "outputId": "5930b5a7-591f-49d9-afc3-394fa1603529"
      },
      "source": [
        "!zip -r results.zip /content/ESRGAN/results"
      ],
      "execution_count": 7,
      "outputs": [
        {
          "output_type": "stream",
          "text": [
            "  adding: content/ESRGAN/results/ (stored 0%)\n",
            "  adding: content/ESRGAN/results/04207_rlt.png (deflated 2%)\n",
            "  adding: content/ESRGAN/results/04234_rlt.png (deflated 0%)\n",
            "  adding: content/ESRGAN/results/04205_rlt.png (deflated 1%)\n",
            "  adding: content/ESRGAN/results/04245_rlt.png (deflated 0%)\n",
            "  adding: content/ESRGAN/results/04239_rlt.png (deflated 0%)\n",
            "  adding: content/ESRGAN/results/04225_rlt.png (deflated 0%)\n",
            "  adding: content/ESRGAN/results/04227_rlt.png (deflated 0%)\n",
            "  adding: content/ESRGAN/results/04223_rlt.png (deflated 0%)\n",
            "  adding: content/ESRGAN/results/04238_rlt.png (deflated 0%)\n",
            "  adding: content/ESRGAN/results/04214_rlt.png (deflated 0%)\n",
            "  adding: content/ESRGAN/results/04226_rlt.png (deflated 0%)\n",
            "  adding: content/ESRGAN/results/04241_rlt.png (deflated 0%)\n",
            "  adding: content/ESRGAN/results/04248_rlt.png (deflated 0%)\n",
            "  adding: content/ESRGAN/results/04228_rlt.png (deflated 0%)\n",
            "  adding: content/ESRGAN/results/.ipynb_checkpoints/ (stored 0%)\n",
            "  adding: content/ESRGAN/results/04235_rlt.png (deflated 0%)\n",
            "  adding: content/ESRGAN/results/04242_rlt.png (deflated 0%)\n",
            "  adding: content/ESRGAN/results/04215_rlt.png (deflated 0%)\n",
            "  adding: content/ESRGAN/results/04216_rlt.png (deflated 0%)\n",
            "  adding: content/ESRGAN/results/04221_rlt.png (deflated 0%)\n",
            "  adding: content/ESRGAN/results/04222_rlt.png (deflated 0%)\n",
            "  adding: content/ESRGAN/results/04243_rlt.png (deflated 0%)\n",
            "  adding: content/ESRGAN/results/04218_rlt.png (deflated 0%)\n",
            "  adding: content/ESRGAN/results/04219_rlt.png (deflated 0%)\n",
            "  adding: content/ESRGAN/results/04213_rlt.png (deflated 0%)\n",
            "  adding: content/ESRGAN/results/04217_rlt.png (deflated 0%)\n",
            "  adding: content/ESRGAN/results/04211_rlt.png (deflated 0%)\n",
            "  adding: content/ESRGAN/results/04240_rlt.png (deflated 0%)\n",
            "  adding: content/ESRGAN/results/04246_rlt.png (deflated 0%)\n",
            "  adding: content/ESRGAN/results/04209_rlt.png (deflated 1%)\n",
            "  adding: content/ESRGAN/results/04236_rlt.png (deflated 0%)\n",
            "  adding: content/ESRGAN/results/04230_rlt.png (deflated 0%)\n",
            "  adding: content/ESRGAN/results/04208_rlt.png (deflated 1%)\n",
            "  adding: content/ESRGAN/results/04233_rlt.png (deflated 0%)\n",
            "  adding: content/ESRGAN/results/04220_rlt.png (deflated 0%)\n",
            "  adding: content/ESRGAN/results/04237_rlt.png (deflated 0%)\n",
            "  adding: content/ESRGAN/results/04210_rlt.png (deflated 1%)\n",
            "  adding: content/ESRGAN/results/04206_rlt.png (deflated 1%)\n",
            "  adding: content/ESRGAN/results/04244_rlt.png (deflated 0%)\n",
            "  adding: content/ESRGAN/results/04247_rlt.png (deflated 0%)\n",
            "  adding: content/ESRGAN/results/04231_rlt.png (deflated 0%)\n",
            "  adding: content/ESRGAN/results/04229_rlt.png (deflated 0%)\n",
            "  adding: content/ESRGAN/results/04232_rlt.png (deflated 0%)\n",
            "  adding: content/ESRGAN/results/04224_rlt.png (deflated 0%)\n",
            "  adding: content/ESRGAN/results/04212_rlt.png (deflated 0%)\n"
          ],
          "name": "stdout"
        }
      ]
    },
    {
      "cell_type": "code",
      "metadata": {
        "id": "ySYDuQuJviVw",
        "colab_type": "code",
        "colab": {}
      },
      "source": [
        ""
      ],
      "execution_count": 0,
      "outputs": []
    }
  ]
}